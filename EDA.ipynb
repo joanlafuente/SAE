{
 "cells": [
  {
   "cell_type": "markdown",
   "metadata": {},
   "source": [
    "Exploratory Data Analysis on the Amazon Review Dataset\n",
    "=====================================================\n",
    "\n",
    "This notebook is an exploratory data analysis on the Amazon Review dataset. The dataset contains reviews of products from Amazon. The graph is available on [Github](https://github.com/joanlafuente/Graph-Anomaly-Detection/tree/main/Data)"
   ]
  },
  {
   "cell_type": "code",
   "execution_count": 2,
   "metadata": {},
   "outputs": [
    {
     "name": "stdout",
     "output_type": "stream",
     "text": [
      "The Amazon Review dataset is turned to a graph of the following type: <class 'collections.defaultdict'>, which contains 11944 nodes.\n"
     ]
    }
   ],
   "source": [
    "import pickle\n",
    "\n",
    "# Load the graph data from the provided pickle file\n",
    "with open('/home/ndelafuente/Documents/SYNTHESIS_PROJECT/Graph-Anomaly-Detection/amz_homo_adjlists.pickle', 'rb') as file:\n",
    "    graph = pickle.load(file)\n",
    "\n",
    "# Display basic information about the graph\n",
    "print(f\"The Amazon Review dataset is turned to a graph of the following type: {type(graph)}, which contains {len(graph)} nodes.\")  # Show the type of the graph object and the number of elements (nodes or edges)\n"
   ]
  },
  {
   "cell_type": "code",
   "execution_count": 6,
   "metadata": {},
   "outputs": [
    {
     "name": "stdout",
     "output_type": "stream",
     "text": [
      "format of the graph: <class 'networkx.classes.graph.Graph'>\n"
     ]
    }
   ],
   "source": [
    "import networkx as nx\n",
    "#If the graph is of type collections.defaultdict, turn it into networkx format\n",
    "# Convert the graph to NetworkX format\n",
    "nx_graph = nx.Graph(graph)\n",
    "\n",
    "#Check format\n",
    "print(\"format of the graph:\", type(nx_graph))"
   ]
  },
  {
   "cell_type": "code",
   "execution_count": 8,
   "metadata": {},
   "outputs": [
    {
     "name": "stdout",
     "output_type": "stream",
     "text": [
      "Number of nodes: 11944\n",
      "Number of edges: 4410336\n"
     ]
    }
   ],
   "source": [
    "\n",
    "print(f\"Number of nodes: {nx_graph.number_of_nodes()}\")\n",
    "print(f\"Number of edges: {nx_graph.number_of_edges()}\")\n"
   ]
  },
  {
   "cell_type": "code",
   "execution_count": 9,
   "metadata": {},
   "outputs": [
    {
     "data": {
      "image/png": "[encoded data removed]",
      "text/plain": [
       "<Figure size 640x480 with 1 Axes>"
      ]
     },
     "metadata": {},
     "output_type": "display_data"
    }
   ],
   "source": [
    "#Compute main statistics of the graph and plot it\n",
    "import matplotlib.pyplot as plt\n",
    "\n",
    "# Compute main statistics of the graph\n",
    "degree_sequence = sorted([d for n, d in nx_graph.degree()], reverse=True)\n",
    "degree_count = {}\n",
    "for degree in degree_sequence:\n",
    "    if degree in degree_count:\n",
    "        degree_count[degree] += 1\n",
    "    else:\n",
    "        degree_count[degree] = 1\n",
    "\n",
    "# Plot the degree distribution\n",
    "plt.bar(degree_count.keys(), degree_count.values())\n",
    "plt.xlabel('Degree')\n",
    "plt.ylabel('Count')\n",
    "plt.title('Degree Distribution')\n",
    "plt.show()\n"
   ]
  },
  {
   "cell_type": "code",
   "execution_count": 10,
   "metadata": {},
   "outputs": [
    {
     "name": "stdout",
     "output_type": "stream",
     "text": [
      "Average degree: 738.5023442732753\n"
     ]
    }
   ],
   "source": [
    "#Compute more interesting statistics and properties of the graph\n",
    "\n",
    "# Compute the average degree of the graph\n",
    "average_degree = sum(degree_sequence) / nx_graph.number_of_nodes()\n",
    "print(f\"Average degree: {average_degree}\")\n",
    "\n",
    "# Compute the clustering coefficient of the graph\n",
    "clustering_coefficient = nx.average_clustering(nx_graph)\n",
    "print(f\"Clustering coefficient: {clustering_coefficient}\")\n",
    "\n",
    "# Compute the diameter of the graph\n",
    "diameter = nx.diameter(nx_graph)\n",
    "print(f\"Diameter: {diameter}\")\n",
    "\n",
    "# Compute the average shortest path length of the graph\n",
    "average_shortest_path_length = nx.average_shortest_path_length(nx_graph)\n",
    "print(f\"Average shortest path length: {average_shortest_path_length}\")\n",
    "\n",
    "# Compute the number of connected components in the graph\n",
    "number_connected_components = nx.number_connected_components(nx_graph)\n",
    "print(f\"Number of connected components: {number_connected_components}\")\n",
    "\n",
    "# Compute the size of the largest connected component in the graph\n",
    "largest_connected_component = max(nx.connected_components(nx_graph), key=len)\n",
    "size_largest_connected_component = len(largest_connected_component)\n",
    "print(f\"Size of the largest connected component: {size_largest_connected_component}\")\n",
    "\n",
    "# Compute the number of triangles in the graph\n",
    "number_triangles = sum(nx.triangles(nx_graph).values()) / 3\n",
    "print(f\"Number of triangles: {number_triangles}\")\n",
    "\n",
    "# Compute the number of triangles in the largest connected component of the graph\n",
    "number_triangles_largest_connected_component = sum(nx.triangles(nx_graph, node) for node in largest_connected_component) / 3\n",
    "print(f\"Number of triangles in the largest connected component: {number_triangles_largest_connected_component}\")\n",
    "\n"
   ]
  },
  {
   "cell_type": "code",
   "execution_count": null,
   "metadata": {},
   "outputs": [],
   "source": [
    "#Plot the graph\n",
    "\n",
    "# Plot the graph\n",
    "plt.figure(figsize=(10, 10))\n",
    "nx.draw(nx_graph, node_size=10)\n",
    "plt.show()\n"
   ]
  },
  {
   "cell_type": "code",
   "execution_count": null,
   "metadata": {},
   "outputs": [],
   "source": []
  }
 ],
 "metadata": {
  "kernelspec": {
   "display_name": "pytorch-env",
   "language": "python",
   "name": "python3"
  },
  "language_info": {
   "codemirror_mode": {
    "name": "ipython",
    "version": 3
   },
   "file_extension": ".py",
   "mimetype": "text/x-python",
   "name": "python",
   "nbconvert_exporter": "python",
   "pygments_lexer": "ipython3",
   "version": "3.11.5"
  }
 },
 "nbformat": 4,
 "nbformat_minor": 2
}
